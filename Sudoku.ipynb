{
 "cells": [
  {
   "cell_type": "code",
   "execution_count": 14,
   "id": "4ad68a85-f471-43da-9510-5d77cb443788",
   "metadata": {},
   "outputs": [],
   "source": [
    "import numpy as np"
   ]
  },
  {
   "cell_type": "code",
   "execution_count": 15,
   "id": "1bb336b1-cc72-4939-9d25-1294ee05d095",
   "metadata": {},
   "outputs": [],
   "source": [
    "grid=[[1,2,3,0,0,0,0,0,0], [1,0,3,7,0,0,0,0,0], [0,2,3,0,0,0,0,0,8],\n",
    "      [0,0,7,0,0,0,0,0,0], [6,0,4,0,0,0,0,0,0],[0,0,0,0,0,0,0,0,0],\n",
    "      [0,0,0,0,0,0,0,0,0],[0,0,0,0,0,0,0,0,0],[0,0,0,0,0,0,0,0,0]]"
   ]
  },
  {
   "cell_type": "markdown",
   "id": "7904225c-06dc-49d9-bfdb-d938227c83eb",
   "metadata": {},
   "source": [
    "## Define the function Possibility"
   ]
  },
  {
   "cell_type": "markdown",
   "id": "0130b34a-1a3a-417b-94cd-f1460ad25d96",
   "metadata": {},
   "source": [
    "## Define Possible Solutions and block non possible ones with False"
   ]
  },
  {
   "cell_type": "code",
   "execution_count": 29,
   "id": "3cbd9294-2d6b-4473-be95-ee4a3145e6aa",
   "metadata": {},
   "outputs": [],
   "source": [
    "def possible(row, column, number):\n",
    "    global grid\n",
    "### Check rows\n",
    "    for i in range(0,9):\n",
    "        if grid[row][i]==number:\n",
    "            return False\n",
    "\n",
    "    \n",
    "## Check Columns\n",
    "    for i in range(0,9):\n",
    "        if grid[i][column]==number:\n",
    "            return False\n",
    "\n",
    "    \n",
    "### Check 3-> Check Squares & define co- ordinates\n",
    "    x0=column//3*3\n",
    "    y0==row//3*3\n",
    "    for i in range(0,3):\n",
    "        for j in range(0,3):\n",
    "            if grid[x0+i][y0+j]==number:\n",
    "                return False\n",
    "    return True"
   ]
  },
  {
   "cell_type": "markdown",
   "id": "98230f42-d133-405a-ae57-168f36c9b5e1",
   "metadata": {},
   "source": [
    " ## What Happened in Earlier Function\n",
    "### Basically we blocked non possible solutions with False, so if it is true the unsolved cell will be kept as 0 or unsolved for check against the given 'number'"
   ]
  },
  {
   "cell_type": "markdown",
   "id": "c78ed4a0-e388-4f38-a5fa-00bc277166d3",
   "metadata": {},
   "source": [
    "### Step 1 in solve function-> \n",
    "#### if for a cell all possible checks returns non False ie; cell= number is not False , keep the cell as number ( remember it is one of the possibilities in ascending order\n",
    "#### Next go solve the next 0. Now if in this 0 you encounter False or dupliacy for all 'numbers' 1 to 9-> backtrack to previous step and then previous and so on else move on to next unsolved cell"
   ]
  },
  {
   "cell_type": "code",
   "execution_count": 32,
   "id": "1379f981-bb04-42f4-8d43-56522589ad9a",
   "metadata": {},
   "outputs": [],
   "source": [
    "def solve():\n",
    "    global grid\n",
    "    for row in range(0,9):\n",
    "        for column in range(0,9):\n",
    "            if grid[row][column] == 0:\n",
    "                for number in range(1,10):\n",
    "                    if possible(row, column, number):\n",
    "                        grid[row][column] = number\n",
    "                        solve()\n",
    "                        grid[row][column] = 0\n",
    "\n",
    "                return\n",
    "    solve()"
   ]
  },
  {
   "cell_type": "code",
   "execution_count": 37,
   "id": "8876aa4b-2666-401d-878f-318023835def",
   "metadata": {},
   "outputs": [
    {
     "name": "stdout",
     "output_type": "stream",
     "text": [
      "[[1 2 3 0 0 0 0 0 0]\n",
      " [1 0 3 7 0 0 0 0 0]\n",
      " [0 2 3 0 0 0 0 0 8]\n",
      " [0 0 7 0 0 0 0 0 0]\n",
      " [6 0 4 0 0 0 0 0 0]\n",
      " [0 0 0 0 0 0 0 0 0]\n",
      " [0 0 0 0 0 0 0 0 0]\n",
      " [0 0 0 0 0 0 0 0 0]\n",
      " [0 0 0 0 0 0 0 0 0]]\n"
     ]
    }
   ],
   "source": [
    "print(np.matrix(grid))"
   ]
  },
  {
   "cell_type": "code",
   "execution_count": 38,
   "id": "96420bad-5972-472e-8490-a69b26ca0f32",
   "metadata": {},
   "outputs": [
    {
     "name": "stdout",
     "output_type": "stream",
     "text": [
      "More solutions\n"
     ]
    }
   ],
   "source": [
    "print('More solutions')"
   ]
  },
  {
   "cell_type": "code",
   "execution_count": null,
   "id": "248ebefa-568e-4772-993c-9002f16cf72f",
   "metadata": {},
   "outputs": [],
   "source": []
  },
  {
   "cell_type": "code",
   "execution_count": null,
   "id": "ebeba8e0-38cd-40b8-9f32-77b8ed25b4cc",
   "metadata": {},
   "outputs": [],
   "source": []
  }
 ],
 "metadata": {
  "kernelspec": {
   "display_name": "Python 3 (ipykernel)",
   "language": "python",
   "name": "python3"
  },
  "language_info": {
   "codemirror_mode": {
    "name": "ipython",
    "version": 3
   },
   "file_extension": ".py",
   "mimetype": "text/x-python",
   "name": "python",
   "nbconvert_exporter": "python",
   "pygments_lexer": "ipython3",
   "version": "3.12.7"
  }
 },
 "nbformat": 4,
 "nbformat_minor": 5
}
